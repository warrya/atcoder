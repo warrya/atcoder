{
 "cells": [
  {
   "cell_type": "code",
   "execution_count": 1,
   "metadata": {},
   "outputs": [
    {
     "name": "stdout",
     "output_type": "stream",
     "text": [
      "2018\n",
      "218\n"
     ]
    }
   ],
   "source": [
    "n = int(input())\n",
    "a = int(input())\n",
    "if n%500>a:\n",
    "    print('No')\n",
    "else:\n",
    "    print('Yes')"
   ]
  },
  {
   "cell_type": "code",
   "execution_count": 4,
   "metadata": {},
   "outputs": [
    {
     "ename": "SyntaxError",
     "evalue": "invalid syntax (<ipython-input-4-4e18123977ae>, line 1)",
     "output_type": "error",
     "traceback": [
      "\u001b[1;36m  File \u001b[1;32m\"<ipython-input-4-4e18123977ae>\"\u001b[1;36m, line \u001b[1;32m1\u001b[0m\n\u001b[1;33m    20 18 2 18\u001b[0m\n\u001b[1;37m        ^\u001b[0m\n\u001b[1;31mSyntaxError\u001b[0m\u001b[1;31m:\u001b[0m invalid syntax\n"
     ]
    }
   ],
   "source": [
    "20 18 2 18"
   ]
  },
  {
   "cell_type": "code",
   "execution_count": 26,
   "metadata": {},
   "outputs": [
    {
     "name": "stdout",
     "output_type": "stream",
     "text": [
      "20 18 2 18\n"
     ]
    }
   ],
   "source": [
    "n = int(input())\n",
    "alist = list(map(int, input().split()))\n",
    "alist.sort(reverse=True)"
   ]
  },
  {
   "cell_type": "code",
   "execution_count": 35,
   "metadata": {},
   "outputs": [
    {
     "name": "stdout",
     "output_type": "stream",
     "text": [
      "4\n",
      "20 18 2 18\n",
      "18\n"
     ]
    }
   ],
   "source": [
    "n = int(input())\n",
    "alist = list(map(int, input().split()))\n",
    "alist.sort(reverse=True)\n",
    "p1 = []\n",
    "p2 = []\n",
    "for i in range(n):\n",
    "    if i%2 == 0:\n",
    "        p1.append(alist.pop(0))\n",
    "    else:\n",
    "        p2.append(alist.pop(0))\n",
    "\n",
    "print(sum(p1)-sum(p2))"
   ]
  },
  {
   "cell_type": "code",
   "execution_count": 36,
   "metadata": {},
   "outputs": [
    {
     "name": "stdout",
     "output_type": "stream",
     "text": [
      "1 8 6\n",
      "2 9 7\n",
      "0 7 7\n"
     ]
    }
   ],
   "source": [
    "row1 = list(map(int, input().split()))\n",
    "row2 = list(map(int, input().split()))\n",
    "row3 = list(map(int, input().split()))"
   ]
  },
  {
   "cell_type": "code",
   "execution_count": 37,
   "metadata": {
    "collapsed": true
   },
   "outputs": [],
   "source": [
    "row1 = list(map(int, input().split()))\n",
    "row2 = list(map(int, input().split()))\n",
    "row3 = list(map(int, input().split()))\n",
    "\n",
    "row1_21 = row1[1] -row1[0]\n",
    "row2_21 = row2[1] -row2[0]\n",
    "row3_21 = row3[1] -row3[0]\n",
    "\n",
    "row1_31 = row1[2] -row1[0]\n",
    "row2_31 = row2[2] -row2[0]\n",
    "row3_31 = row3[2] -row3[0]\n",
    "if ((row1_21==row2_21) and (row1_21==row3_21)) and ((row1_31==row2_31) and (row1_31==row3_31)):\n",
    "    print('Yes')\n",
    "else:\n",
    "    print('No')"
   ]
  },
  {
   "cell_type": "code",
   "execution_count": null,
   "metadata": {
    "collapsed": true
   },
   "outputs": [],
   "source": []
  },
  {
   "cell_type": "code",
   "execution_count": null,
   "metadata": {
    "collapsed": true
   },
   "outputs": [],
   "source": []
  }
 ],
 "metadata": {
  "kernelspec": {
   "display_name": "Python 3",
   "language": "python",
   "name": "python3"
  },
  "language_info": {
   "codemirror_mode": {
    "name": "ipython",
    "version": 3
   },
   "file_extension": ".py",
   "mimetype": "text/x-python",
   "name": "python",
   "nbconvert_exporter": "python",
   "pygments_lexer": "ipython3",
   "version": "3.6.3"
  }
 },
 "nbformat": 4,
 "nbformat_minor": 2
}
